{
 "cells": [
  {
   "cell_type": "code",
   "execution_count": 55,
   "metadata": {},
   "outputs": [],
   "source": [
    "import yfinance as yf\n",
    "import numpy as np\n",
    "import matplotlib.pyplot as plt\n",
    "import pandas as pd\n",
    "import math\n",
    "from scipy.stats import norm"
   ]
  },
  {
   "cell_type": "code",
   "execution_count": 57,
   "metadata": {},
   "outputs": [],
   "source": [
    "def fetch_historical_data(ticker, start, end):\n",
    "    stock_data = yf.download(ticker, start=start, end=end)\n",
    "    return stock_data['Close']"
   ]
  },
  {
   "cell_type": "code",
   "execution_count": 58,
   "metadata": {},
   "outputs": [],
   "source": [
    "def calculate_mu_sigma(prices, n):\n",
    "    daily_returns = np.diff(np.log(prices))\n",
    "    mu = np.mean(daily_returns) * n\n",
    "    sigma = np.std(daily_returns) * np.sqrt(n)\n",
    "    return mu, sigma"
   ]
  },
  {
   "cell_type": "code",
   "execution_count": 59,
   "metadata": {},
   "outputs": [],
   "source": [
    "def plot_prices(dates, prices, title):\n",
    "    plt.figure(figsize=(12, 6))\n",
    "    plt.plot(dates, prices, label='Prices', color='blue')\n",
    "    plt.title(title)\n",
    "    plt.xlabel('Date')\n",
    "    plt.ylabel('Price')\n",
    "    plt.legend()\n",
    "    plt.grid()\n",
    "    plt.show()"
   ]
  },
  {
   "cell_type": "code",
   "execution_count": 60,
   "metadata": {},
   "outputs": [],
   "source": [
    "def black_scholes_call(S0, K, T, r, sigma):\n",
    "    # Calculate d1 and d2\n",
    "    d1 = (np.log(S0 / K) + (r + 0.5 * sigma**2) * T) / (sigma * np.sqrt(T))\n",
    "    d2 = d1 - sigma * np.sqrt(T)\n",
    "    \n",
    "    # Calculate call price\n",
    "    call_price = S0 * norm.cdf(d1) - K * np.exp(-r * T) * norm.cdf(d2)\n",
    "    return call_price"
   ]
  },
  {
   "cell_type": "code",
   "execution_count": 61,
   "metadata": {},
   "outputs": [],
   "source": [
    "def combos(n, i):\n",
    "    return math.factorial(n) / (math.factorial(n-i)*math.factorial(i))\n",
    "\n",
    "def binom_EU1(S0, K , T, r, sigma, N, type_ = 'call'):\n",
    "    dt = T/N\n",
    "    u = np.exp(sigma * np.sqrt(dt))\n",
    "    d = np.exp(-sigma * np.sqrt(dt))\n",
    "    p = (  np.exp(r*dt) - d )  /  (  u - d )\n",
    "    value = 0 \n",
    "    for i in range(N+1):\n",
    "        node_prob = combos(N, i)*p**i*(1-p)**(N-i)\n",
    "        ST = S0*(u)**i*(d)**(N-i)\n",
    "        if type_ == 'call':\n",
    "            value += max(ST-K,0) * node_prob\n",
    "        elif type_ == 'put':\n",
    "            value += max(K-ST, 0)*node_prob\n",
    "        else:\n",
    "            raise ValueError(\"type_ must be 'call' or 'put'\" )\n",
    "    \n",
    "    return value*np.exp(-r*T)"
   ]
  },
  {
   "cell_type": "code",
   "execution_count": 62,
   "metadata": {},
   "outputs": [
    {
     "name": "stderr",
     "output_type": "stream",
     "text": [
      "[*********************100%***********************]  1 of 1 completed"
     ]
    },
    {
     "name": "stdout",
     "output_type": "stream",
     "text": [
      "Price is 2 steps is 39.68\n",
      "Price is 4 steps is 39.68\n",
      "Price is 6 steps is 39.68\n",
      "Price is 8 steps is 39.7\n",
      "Price is 10 steps is 39.69\n",
      "Price is 20 steps is 39.7\n",
      "Price is 50 steps is 39.7\n",
      "Price is 100 steps is 39.71\n",
      "Price is 200 steps is 39.71\n",
      "Price is 300 steps is 39.71\n",
      "Price is 400 steps is 39.71\n",
      "Price is 500 steps is 39.71\n",
      "Price is 600 steps is 39.71\n",
      "S0: 188.86000061035156, K: 150, T: 0.1095890410958904, r: 0.05, sigma: 0.27955086759377373\n",
      "The Black-Scholes call option price at t=0 is: 39.71\n"
     ]
    },
    {
     "name": "stderr",
     "output_type": "stream",
     "text": [
      "\n"
     ]
    },
    {
     "data": {
      "image/png": "[encoded data removed]",
      "text/plain": [
       "<Figure size 864x432 with 1 Axes>"
      ]
     },
     "metadata": {
      "needs_background": "light"
     },
     "output_type": "display_data"
    }
   ],
   "source": [
    "# Parameters\n",
    "ticker = 'TSLA'  # Stock ticker\n",
    "start_date = '2024-02-01'  # Historical data start date\n",
    "end_date = '2024-03-30'  # Historical data end date\n",
    "\n",
    "# Fetch historical data\n",
    "hist_prices = fetch_historical_data(ticker, start_date, end_date)\n",
    "dates = hist_prices.index\n",
    "historical_prices=hist_prices.values\n",
    "\n",
    "# Calculate mu and sigma using training data\n",
    "n = 100  # Granularity of time steps\n",
    "mu, sigma = calculate_mu_sigma(historical_prices, n)\n",
    "\n",
    "r = 0.05  # Risk-free rate\n",
    "strike_price= 150\n",
    "\n",
    "# Use the last price as the starting point\n",
    "initial_price = historical_prices[0]\n",
    "\n",
    "# Find the future stock prices using the binomial model\n",
    "num_days = len(historical_prices)  # Number of days to simulate\n",
    "Ns = [2, 4, 6, 8, 10, 20, 50, 100, 200, 300, 400,500, 600]\n",
    "    \n",
    "\n",
    "for n in Ns:\n",
    "    c = binom_EU1(initial_price, strike_price, num_days/365, r,sigma, n)\n",
    "    print(f'Price is {n} steps is {round(c,2)}')\n",
    "\n",
    "# Parameters for Black-Scholes\n",
    "S0 = initial_price  # Current stock price, from the last historical price\n",
    "K = strike_price    # Strike price\n",
    "T = num_days / 365  # Time to expiration in years (e.g., 30 days = 30/365)\n",
    "r = 0.05            # Risk-free interest rate (already defined as r)\n",
    "sigma = sigma       # Annualized volatility from calculate_mu_sigma\n",
    "\n",
    "# Debugging print\n",
    "print(f\"S0: {S0}, K: {K}, T: {T}, r: {r}, sigma: {sigma}\")\n",
    "call_price = black_scholes_call(S0, K, T, r, sigma)\n",
    "print(f\"The Black-Scholes call option price at t=0 is: {call_price:.2f}\")\n",
    "\n",
    "#Plot the results\n",
    "plot_prices(dates, historical_prices, f'Actual Stock Prices for {ticker}')\n"
   ]
  },
  {
   "cell_type": "code",
   "execution_count": null,
   "metadata": {},
   "outputs": [],
   "source": []
  }
 ],
 "metadata": {
  "kernelspec": {
   "display_name": "base",
   "language": "python",
   "name": "python3"
  },
  "language_info": {
   "codemirror_mode": {
    "name": "ipython",
    "version": 3
   },
   "file_extension": ".py",
   "mimetype": "text/x-python",
   "name": "python",
   "nbconvert_exporter": "python",
   "pygments_lexer": "ipython3",
   "version": "3.9.12"
  }
 },
 "nbformat": 4,
 "nbformat_minor": 2
}
