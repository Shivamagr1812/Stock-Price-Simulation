{
 "cells": [
  {
   "cell_type": "code",
   "execution_count": 10,
   "metadata": {},
   "outputs": [],
   "source": [
    "import yfinance as yf\n",
    "import numpy as np\n",
    "import matplotlib.pyplot as plt"
   ]
  },
  {
   "cell_type": "code",
   "execution_count": 11,
   "metadata": {},
   "outputs": [],
   "source": [
    "def fetch_historical_data(ticker, start, end):\n",
    "    stock_data = yf.download(ticker, start=start, end=end)\n",
    "    return stock_data['Close'].values"
   ]
  },
  {
   "cell_type": "code",
   "execution_count": 12,
   "metadata": {},
   "outputs": [],
   "source": [
    "def calculate_mu_sigma(prices, n):\n",
    "    daily_returns = np.diff(np.log(prices))\n",
    "    mu = np.mean(daily_returns) * n\n",
    "    sigma = np.std(daily_returns) * np.sqrt(n)\n",
    "    return mu, sigma"
   ]
  },
  {
   "cell_type": "code",
   "execution_count": null,
   "metadata": {},
   "outputs": [],
   "source": [
    "def calculate_u_d_p(mu, sigma, r, n):\n",
    "    u = 1 + sigma / np.sqrt(n)\n",
    "    d = 1 - sigma / np.sqrt(n)\n",
    "    p = (1 + r - d) / (u - d)\n",
    "    return u, d, p"
   ]
  },
  {
   "cell_type": "code",
   "execution_count": 13,
   "metadata": {},
   "outputs": [],
   "source": [
    "def simulate_stock_prices(initial_price, num_days, u, d, p, n):\n",
    "    # Not implemented\n",
    "    pass"
   ]
  },
  {
   "cell_type": "code",
   "execution_count": 16,
   "metadata": {},
   "outputs": [],
   "source": [
    "def plot_prices(dates, prices, title):\n",
    "    plt.figure(figsize=(12, 6))\n",
    "    plt.plot(dates, prices, label='Prices', color='blue')\n",
    "    plt.title(title)\n",
    "    plt.xlabel('Date')\n",
    "    plt.ylabel('Price')\n",
    "    plt.legend()\n",
    "    plt.grid()\n",
    "    plt.show()"
   ]
  },
  {
   "cell_type": "code",
   "execution_count": null,
   "metadata": {},
   "outputs": [],
   "source": [
    "# Parameters\n",
    "ticker = 'TSLA'  # Stock ticker\n",
    "start_date = '2016-01-01'  # Historical data start date\n",
    "end_date = '2024-01-01'  # Historical data end date\n",
    "\n",
    "# Fetch historical data\n",
    "historical_prices = fetch_historical_data(ticker, start_date, end_date)\n",
    "\n",
    "# Calculate mu and sigma using training data\n",
    "n = 10  # Granularity of time steps\n",
    "mu, sigma = calculate_mu_sigma(historical_prices, n)\n",
    "\n",
    "# Calculate u, d, and p\n",
    "r = 0.0  # Risk-free rate\n",
    "u, d, p = calculate_u_d_p(mu, sigma, r, n)\n",
    "\n",
    "# Use the last price as the starting point\n",
    "initial_price = historical_prices[-1]\n",
    "\n",
    "# Find the future stock prices using the binomial model\n",
    "num_days = len(historical_prices)  # Number of days to simulate\n",
    "simulated_prices = simulate_stock_prices(initial_price, num_days, mu, sigma)\n",
    "\n",
    "# Plot the results\n",
    "plot_prices(dates, simulated_prices, f'Simulated Stock Prices for {ticker}')\n",
    "plot_prices(dates, historical_prices, f'Actual Stock Prices for {ticker}')\n"
   ]
  },
  {
   "cell_type": "code",
   "execution_count": null,
   "metadata": {},
   "outputs": [],
   "source": []
  }
 ],
 "metadata": {
  "kernelspec": {
   "display_name": "Python 3",
   "language": "python",
   "name": "python3"
  },
  "language_info": {
   "codemirror_mode": {
    "name": "ipython",
    "version": 3
   },
   "file_extension": ".py",
   "mimetype": "text/x-python",
   "name": "python",
   "nbconvert_exporter": "python",
   "pygments_lexer": "ipython3",
   "version": "3.11.0"
  }
 },
 "nbformat": 4,
 "nbformat_minor": 2
}
